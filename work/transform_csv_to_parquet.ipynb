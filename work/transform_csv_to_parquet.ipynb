{
 "cells": [
  {
   "cell_type": "code",
   "execution_count": 12,
   "metadata": {},
   "outputs": [],
   "source": [
    "from pyspark.sql import SparkSession\n",
    "import pyspark.sql.functions as F\n",
    "import os\n",
    "from tqdm.notebook import tqdm"
   ]
  },
  {
   "cell_type": "code",
   "execution_count": 20,
   "metadata": {},
   "outputs": [
    {
     "data": {
      "text/html": [
       "<style>\n",
       ".cell-output-ipywidget-background {\n",
       "    background-color: transparent !important;\n",
       "}\n",
       ":root {\n",
       "    --jp-widgets-color: var(--vscode-editor-foreground);\n",
       "    --jp-widgets-font-size: var(--vscode-editor-font-size);\n",
       "}  \n",
       "</style>\n"
      ],
      "text/plain": [
       "<IPython.core.display.HTML object>"
      ]
     },
     "metadata": {},
     "output_type": "display_data"
    }
   ],
   "source": [
    "%%html\n",
    "<style>\n",
    ".cell-output-ipywidget-background {\n",
    "    background-color: transparent !important;\n",
    "}\n",
    ":root {\n",
    "    --jp-widgets-color: var(--vscode-editor-foreground);\n",
    "    --jp-widgets-font-size: var(--vscode-editor-font-size);\n",
    "}  \n",
    "</style>"
   ]
  },
  {
   "cell_type": "code",
   "execution_count": 3,
   "metadata": {},
   "outputs": [],
   "source": [
    "spark = (\n",
    "    SparkSession.builder\n",
    "        .appName(\"TestTransformFile\")\n",
    "        .config(\"spark.sql.shuffle.partitions\", \"4\")\n",
    "        .getOrCreate()\n",
    "    )"
   ]
  },
  {
   "cell_type": "code",
   "execution_count": 17,
   "metadata": {},
   "outputs": [],
   "source": [
    "def convert_csv_to_parquet(csv_file_name, output=True):\n",
    "    with tqdm(total=3) as pbar:\n",
    "        csv_path = f\"./work/data/{csv_file_name}\"\n",
    "        parquet_dir_name = f\"{csv_file_name.split('.')[0]}.parquet\"\n",
    "        parquet_path = f\"./work/data/{parquet_dir_name}\"\n",
    "        pbar.update()\n",
    "        \n",
    "        if output:\n",
    "            print(\n",
    "                csv_file_name,\n",
    "                round(os.path.getsize(csv_path) / 1024 /1024, 2),\n",
    "                \"MB\"\n",
    "            )\n",
    "        \n",
    "        data_csv = spark.read.csv(csv_path, header=True, inferSchema=True)\n",
    "        pbar.update()\n",
    "        data_csv.write.parquet(parquet_path, mode='overwrite')\n",
    "        pbar.update()\n",
    "        \n",
    "        if output:\n",
    "            print(\n",
    "                parquet_dir_name + \"/\",\n",
    "                round(\n",
    "                    sum(\n",
    "                        os.path.getsize(f\"{parquet_path}/{f}\") \n",
    "                        for f in os.listdir(f\"{parquet_path}\")\n",
    "                        if os.path.isfile(f\"{parquet_path}/{f}\")\n",
    "                    ) / 1024 / 1024,\n",
    "                    2\n",
    "                ),\n",
    "                \"MB\"\n",
    "            )"
   ]
  },
  {
   "cell_type": "code",
   "execution_count": 18,
   "metadata": {},
   "outputs": [
    {
     "data": {
      "application/vnd.jupyter.widget-view+json": {
       "model_id": "f1451552d860441faa325033e7ea2bf1",
       "version_major": 2,
       "version_minor": 0
      },
      "text/plain": [
       "  0%|          | 0/3 [00:00<?, ?it/s]"
      ]
     },
     "metadata": {},
     "output_type": "display_data"
    },
    {
     "name": "stdout",
     "output_type": "stream",
     "text": [
      "customers-100000.csv 17.17 MB\n",
      "customers-100000.parquet/ 9.29 MB\n"
     ]
    }
   ],
   "source": [
    "convert_csv_to_parquet(\"customers-100000.csv\", output=True)"
   ]
  },
  {
   "cell_type": "code",
   "execution_count": 19,
   "metadata": {},
   "outputs": [
    {
     "data": {
      "application/vnd.jupyter.widget-view+json": {
       "model_id": "daae5c93f93245fbbe5fc92f94f3803d",
       "version_major": 2,
       "version_minor": 0
      },
      "text/plain": [
       "  0%|          | 0/3 [00:00<?, ?it/s]"
      ]
     },
     "metadata": {},
     "output_type": "display_data"
    },
    {
     "name": "stdout",
     "output_type": "stream",
     "text": [
      "orders-from-customers-100000.csv 29.23 MB\n",
      "orders-from-customers-100000.parquet/ 17.14 MB\n"
     ]
    }
   ],
   "source": [
    "convert_csv_to_parquet(\"orders-from-customers-100000.csv\", output=True)"
   ]
  },
  {
   "cell_type": "code",
   "execution_count": null,
   "metadata": {},
   "outputs": [],
   "source": []
  }
 ],
 "metadata": {
  "kernelspec": {
   "display_name": "Python 3 (ipykernel)",
   "language": "python",
   "name": "python3"
  },
  "language_info": {
   "codemirror_mode": {
    "name": "ipython",
    "version": 3
   },
   "file_extension": ".py",
   "mimetype": "text/x-python",
   "name": "python",
   "nbconvert_exporter": "python",
   "pygments_lexer": "ipython3",
   "version": "3.12.9"
  }
 },
 "nbformat": 4,
 "nbformat_minor": 2
}
