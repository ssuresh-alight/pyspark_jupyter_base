{
 "cells": [
  {
   "cell_type": "code",
   "execution_count": 1,
   "id": "85fc1993-04bf-48da-b6f4-b57a31e3be7d",
   "metadata": {
    "ExecuteTime": {
     "end_time": "2025-02-18T22:09:31.036188Z",
     "start_time": "2025-02-18T22:09:30.166646Z"
    }
   },
   "outputs": [],
   "source": [
    "from datetime import datetime, date\n",
    "from pyspark.sql import SparkSession, Row, functions as F\n",
    "from time import perf_counter\n",
    "import pandas as pd\n",
    "import logging\n",
    "\n",
    "# type hint thingies\n",
    "from typing import Iterator"
   ]
  },
  {
   "cell_type": "code",
   "execution_count": 2,
   "id": "f3a1ac26-92ed-457b-aec6-de2e7748f9de",
   "metadata": {
    "ExecuteTime": {
     "end_time": "2025-02-18T22:09:36.009720Z",
     "start_time": "2025-02-18T22:09:31.050614Z"
    }
   },
   "outputs": [],
   "source": [
    "# Spark session & context\n",
    "\n",
    "# create it in local mode\n",
    "spark = SparkSession.builder.master(\"local\").getOrCreate()\n",
    "sc = spark.sparkContext\n",
    "spark.conf.set('spark.sql.repl.eagerEval.enabled', False)"
   ]
  },
  {
   "cell_type": "code",
   "execution_count": 3,
   "id": "ecae6682-1234-42ec-bbf6-05015ff221b8",
   "metadata": {
    "ExecuteTime": {
     "end_time": "2025-02-18T22:09:37.809709Z",
     "start_time": "2025-02-18T22:09:36.368297Z"
    }
   },
   "outputs": [
    {
     "name": "stdout",
     "output_type": "stream",
     "text": [
      "Sum: 20100\n",
      "Took 0.9798703830019804ms\n"
     ]
    }
   ],
   "source": [
    "# Sum of the first 100 whole numbers\n",
    "rdd = sc.parallelize(range(200 + 1))\n",
    "\n",
    "start = perf_counter()\n",
    "print(\"Sum:\", rdd.sum())\n",
    "print(f\"Took {perf_counter()-start}ms\")"
   ]
  },
  {
   "cell_type": "code",
   "execution_count": 4,
   "id": "4aaef821-1d35-4e80-8376-4c3756f113c8",
   "metadata": {
    "ExecuteTime": {
     "end_time": "2025-02-18T22:09:38.525503Z",
     "start_time": "2025-02-18T22:09:37.839714Z"
    }
   },
   "outputs": [
    {
     "data": {
      "text/plain": [
       "DataFrame[a: bigint, b: double, c: string, d: date, e: timestamp]"
      ]
     },
     "execution_count": 4,
     "metadata": {},
     "output_type": "execute_result"
    }
   ],
   "source": [
    "# Creates dataframe. No explicit schema specified - will sample row to get schema instead\n",
    "# Alternatively can pass in `schema` param\n",
    "# Dataframe can be created from pandas DF as well\n",
    "df = spark.createDataFrame([\n",
    "    Row(a=1, b=2., c='string1', d=date(2000, 1, 1), e=datetime(2000, 1, 1, 12, 0)),\n",
    "    Row(a=2, b=3., c='string2', d=date(2000, 2, 1), e=datetime(2000, 1, 2, 12, 0)),\n",
    "    Row(a=4, b=5., c='string3', d=date(2000, 3, 1), e=datetime(2000, 1, 3, 12, 0))\n",
    "])\n",
    "df"
   ]
  },
  {
   "cell_type": "code",
   "execution_count": 5,
   "id": "a444f13d-3022-4ec1-9c24-91c4a834cb46",
   "metadata": {
    "ExecuteTime": {
     "end_time": "2025-02-18T22:09:38.715192Z",
     "start_time": "2025-02-18T22:09:38.558553Z"
    }
   },
   "outputs": [
    {
     "data": {
      "text/plain": [
       "DataFrame[a: bigint, b: double, c: string, d: date, e: timestamp]"
      ]
     },
     "execution_count": 5,
     "metadata": {},
     "output_type": "execute_result"
    }
   ],
   "source": [
    "# Pandaas dataframe is created col by col\n",
    "pandas_df = pd.DataFrame({\n",
    "    'a': [1, 2, 3],\n",
    "    'b': [2., 3., 4.],\n",
    "    'c': ['string1', 'string2', 'string3'],\n",
    "    'd': [date(2000, 1, 1), date(2000, 2, 1), date(2000, 3, 1)],\n",
    "    'e': [datetime(2000, 1, 1, 12, 0), datetime(2000, 1, 2, 12, 0), datetime(2000, 1, 3, 12, 0)]\n",
    "})\n",
    "df = spark.createDataFrame(pandas_df)\n",
    "df"
   ]
  },
  {
   "cell_type": "code",
   "execution_count": 6,
   "id": "568d8ab9-a5f2-41cf-8fc1-81f58d9205b5",
   "metadata": {
    "ExecuteTime": {
     "end_time": "2025-02-18T22:09:40.811340Z",
     "start_time": "2025-02-18T22:09:38.747532Z"
    }
   },
   "outputs": [
    {
     "name": "stdout",
     "output_type": "stream",
     "text": [
      "+---+---+-------+----------+-------------------+\n",
      "|  a|  b|      c|         d|                  e|\n",
      "+---+---+-------+----------+-------------------+\n",
      "|  1|2.0|string1|2000-01-01|2000-01-01 12:00:00|\n",
      "|  2|3.0|string2|2000-02-01|2000-01-02 12:00:00|\n",
      "|  3|4.0|string3|2000-03-01|2000-01-03 12:00:00|\n",
      "+---+---+-------+----------+-------------------+\n",
      "\n",
      "root\n",
      " |-- a: long (nullable = true)\n",
      " |-- b: double (nullable = true)\n",
      " |-- c: string (nullable = true)\n",
      " |-- d: date (nullable = true)\n",
      " |-- e: timestamp (nullable = true)\n",
      "\n"
     ]
    }
   ],
   "source": [
    "df.show()\n",
    "df.printSchema()"
   ]
  },
  {
   "cell_type": "code",
   "execution_count": 7,
   "id": "4a2cf40c-69be-4ebb-b7f9-0001d276b78e",
   "metadata": {
    "ExecuteTime": {
     "end_time": "2025-02-18T22:09:41.144625Z",
     "start_time": "2025-02-18T22:09:40.856960Z"
    }
   },
   "outputs": [],
   "source": [
    "# eager evaluation - displays like this in jupyter\n",
    "# spark.conf.set('spark.sql.repl.eagerEval.enabled', True)\n",
    "# df"
   ]
  },
  {
   "cell_type": "code",
   "execution_count": 8,
   "id": "c4de36d7",
   "metadata": {},
   "outputs": [
    {
     "name": "stdout",
     "output_type": "stream",
     "text": [
      "+---+---+-------+----------+-------------------+\n",
      "|  a|  b|      c|         d|                  e|\n",
      "+---+---+-------+----------+-------------------+\n",
      "|  1|2.0|string1|2000-01-01|2000-01-01 12:00:00|\n",
      "+---+---+-------+----------+-------------------+\n",
      "\n"
     ]
    }
   ],
   "source": [
    "# Configure logging - find non-worker logs in docker container\n",
    "logging.basicConfig(level=logging.INFO, filename=\"log.txt\")\n",
    "logger = logging.getLogger(__name__)\n",
    "logger.info(\"test from outside\")\n",
    "\n",
    "def pandas_filter_func(iterator: Iterator[pd.DataFrame]) -> Iterator[pd.DataFrame]:\n",
    "    logger.info(\"test from func\") # not sure how to see these\n",
    "    for pandas_df in iterator:\n",
    "        yield pandas_df[pandas_df.a == 1]\n",
    "\n",
    "df.mapInPandas(pandas_filter_func, schema=df.schema).show()"
   ]
  },
  {
   "cell_type": "code",
   "execution_count": 9,
   "id": "188667d5",
   "metadata": {},
   "outputs": [
    {
     "data": {
      "text/plain": [
       "'http://b622381e56b9:4040'"
      ]
     },
     "execution_count": 9,
     "metadata": {},
     "output_type": "execute_result"
    }
   ],
   "source": [
    "sc.uiWebUrl"
   ]
  },
  {
   "cell_type": "code",
   "execution_count": 10,
   "id": "b42d4bac-01a7-4d6a-8de6-38b2235c3038",
   "metadata": {
    "ExecuteTime": {
     "end_time": "2025-02-18T22:09:42.149111Z",
     "start_time": "2025-02-18T22:09:41.184074Z"
    }
   },
   "outputs": [
    {
     "data": {
      "text/plain": [
       "DataFrame[name: string, city: string, id: bigint]"
      ]
     },
     "execution_count": 10,
     "metadata": {},
     "output_type": "execute_result"
    }
   ],
   "source": [
    "df2 = spark.createDataFrame([\n",
    "    Row('don','baltimore',12),\n",
    "    Row('jerry','boston',19),\n",
    "    Row('bob','baltimore',99),\n",
    "    Row('cameron','baltimore',13),\n",
    "    Row('james','seattle',1),\n",
    "    Row('peter','seattle',2),\n",
    "], schema = 'name: string, city: string, id: long')\n",
    "\n",
    "df2"
   ]
  },
  {
   "cell_type": "code",
   "execution_count": 11,
   "id": "6aafd6d6-6264-4a0d-bf93-9e1d4e47db13",
   "metadata": {
    "ExecuteTime": {
     "end_time": "2025-02-18T22:09:42.227426Z",
     "start_time": "2025-02-18T22:09:42.223249Z"
    }
   },
   "outputs": [
    {
     "name": "stdout",
     "output_type": "stream",
     "text": [
      "+---------+-----+\n",
      "|     city|count|\n",
      "+---------+-----+\n",
      "|   boston|    1|\n",
      "|  seattle|    2|\n",
      "|baltimore|    3|\n",
      "+---------+-----+\n",
      "\n"
     ]
    }
   ],
   "source": [
    "df2.groupBy('city').count().show()"
   ]
  },
  {
   "cell_type": "code",
   "execution_count": 12,
   "id": "b223c8aa",
   "metadata": {
    "ExecuteTime": {
     "end_time": "2025-02-18T22:09:42.284073Z",
     "start_time": "2025-02-18T22:09:42.280158Z"
    }
   },
   "outputs": [
    {
     "name": "stdout",
     "output_type": "stream",
     "text": [
      "+---------+-------------------+\n",
      "|     city|  collect_set(name)|\n",
      "+---------+-------------------+\n",
      "|   boston|            [jerry]|\n",
      "|  seattle|     [james, peter]|\n",
      "|baltimore|[don, cameron, bob]|\n",
      "+---------+-------------------+\n",
      "\n"
     ]
    }
   ],
   "source": [
    "df2.groupby(\"city\").agg({'name': 'collect_set'}).show()"
   ]
  },
  {
   "cell_type": "code",
   "execution_count": 13,
   "id": "6d5c7e4f",
   "metadata": {},
   "outputs": [
    {
     "name": "stdout",
     "output_type": "stream",
     "text": [
      "+---------+-------------------+\n",
      "|     city|  collect_set(name)|\n",
      "+---------+-------------------+\n",
      "|   boston|            [jerry]|\n",
      "|  seattle|     [james, peter]|\n",
      "|baltimore|[don, cameron, bob]|\n",
      "+---------+-------------------+\n",
      "\n"
     ]
    }
   ],
   "source": [
    "df2.groupby(\"city\").agg(F.collect_set('name')).show()"
   ]
  },
  {
   "cell_type": "code",
   "execution_count": 14,
   "id": "5883b416",
   "metadata": {},
   "outputs": [],
   "source": [
    "# df3 = spark.read.csv(\"./work/data/customers-100000.csv\", header=True, inferSchema=True)\n",
    "df3 = spark.read.csv(\"./work/data/customers-100.csv\", header=True, inferSchema=True)\n",
    "\n",
    "# df3.show(5)"
   ]
  },
  {
   "cell_type": "code",
   "execution_count": 15,
   "id": "9be3f8a7",
   "metadata": {},
   "outputs": [
    {
     "name": "stdout",
     "output_type": "stream",
     "text": [
      "df4 3\n",
      "df5 2\n"
     ]
    }
   ],
   "source": [
    "print(\"df4 \" + str(df3.filter(F.col('First Name').startswith('S')).count()))\n",
    "print(\"df5 \" + str(df3.filter(F.col('Last Name').startswith('B')).count()))"
   ]
  },
  {
   "cell_type": "code",
   "execution_count": 16,
   "id": "e681f393",
   "metadata": {},
   "outputs": [
    {
     "name": "stdout",
     "output_type": "stream",
     "text": [
      "+-----+-----------+----------+---------+-------+----+-------+-------+-------+-----+-----------------+--------+-------+\n",
      "|Index|Customer Id|First Name|Last Name|Company|City|Country|Phone 1|Phone 2|Email|Subscription Date|Birthday|Website|\n",
      "+-----+-----------+----------+---------+-------+----+-------+-------+-------+-----+-----------------+--------+-------+\n",
      "+-----+-----------+----------+---------+-------+----+-------+-------+-------+-----+-----------------+--------+-------+\n",
      "\n"
     ]
    }
   ],
   "source": [
    "df4 = df3.filter(F.col('First Name').startswith('S'))\n",
    "df5 = df3.filter(F.col('Last Name').startswith('B'))\n",
    "\n",
    "df4.intersect(df5).show(5)"
   ]
  },
  {
   "cell_type": "code",
   "execution_count": 17,
   "id": "76f8f44d",
   "metadata": {},
   "outputs": [
    {
     "name": "stdout",
     "output_type": "stream",
     "text": [
      "+-----+-----------+----------+---------+-------+----+-------+-------+-------+-----+-----------------+--------+-------+\n",
      "|Index|Customer Id|First Name|Last Name|Company|City|Country|Phone 1|Phone 2|Email|Subscription Date|Birthday|Website|\n",
      "+-----+-----------+----------+---------+-------+----+-------+-------+-------+-----+-----------------+--------+-------+\n",
      "+-----+-----------+----------+---------+-------+----+-------+-------+-------+-----+-----------------+--------+-------+\n",
      "\n"
     ]
    }
   ],
   "source": [
    "df3.cache()\n",
    "df3.count()\n",
    "df4 = df3.filter(F.col('First Name').startswith('S'))\n",
    "df5 = df3.filter(F.col('Last Name').startswith('B'))\n",
    "\n",
    "df4.intersect(df5).show(5)"
   ]
  },
  {
   "cell_type": "code",
   "execution_count": 18,
   "id": "b091db6f",
   "metadata": {},
   "outputs": [
    {
     "name": "stdout",
     "output_type": "stream",
     "text": [
      "+-----+-----------+----------+---------+-------+----+-------+-------+-------+-----+-----------------+--------+-------+\n",
      "|Index|Customer Id|First Name|Last Name|Company|City|Country|Phone 1|Phone 2|Email|Subscription Date|Birthday|Website|\n",
      "+-----+-----------+----------+---------+-------+----+-------+-------+-------+-----+-----------------+--------+-------+\n",
      "+-----+-----------+----------+---------+-------+----+-------+-------+-------+-----+-----------------+--------+-------+\n",
      "\n"
     ]
    }
   ],
   "source": [
    "df6 = df3.filter(F.col('First Name').startswith('S') | F.col('First Name').startswith('B'))\n",
    "df6.cache()\n",
    "df4 = df6.filter(F.col('First Name').startswith('S'))\n",
    "df5 = df6.filter(F.col('Last Name').startswith('B'))\n",
    "\n",
    "df4.intersect(df5).show(5)"
   ]
  },
  {
   "cell_type": "code",
   "execution_count": 19,
   "id": "35f91558",
   "metadata": {},
   "outputs": [
    {
     "name": "stdout",
     "output_type": "stream",
     "text": [
      "+----------+-----+\n",
      "|Subscribed|count|\n",
      "+----------+-----+\n",
      "|         0|   10|\n",
      "|         1|    6|\n",
      "|         2|   11|\n",
      "|         3|   11|\n",
      "|         4|    8|\n",
      "|         5|   11|\n",
      "|         6|   12|\n",
      "|         7|   12|\n",
      "|         8|    9|\n",
      "|         9|   10|\n",
      "+----------+-----+\n",
      "\n"
     ]
    }
   ],
   "source": [
    "df3 \\\n",
    "    .withColumn('Subscribed', F.datediff(F.current_date(), F.col('Subscription Date')) / 365) \\\n",
    "    .withColumn('Subscribed', F.floor(F.col('Subscribed'))) \\\n",
    "    .groupBy('Subscribed') \\\n",
    "    .count() \\\n",
    "    .orderBy('Subscribed') \\\n",
    "    .show()"
   ]
  },
  {
   "cell_type": "code",
   "execution_count": 20,
   "id": "4164b328",
   "metadata": {},
   "outputs": [
    {
     "name": "stdout",
     "output_type": "stream",
     "text": [
      "+---------+-----+\n",
      "|Last Name|count|\n",
      "+---------+-----+\n",
      "|   Murphy|    4|\n",
      "|    Ortiz|    2|\n",
      "| Williams|    2|\n",
      "|  Sanchez|    2|\n",
      "|    Smith|    2|\n",
      "+---------+-----+\n",
      "only showing top 5 rows\n",
      "\n",
      "+----------+-----+\n",
      "|First Name|count|\n",
      "+----------+-----+\n",
      "|     James|    3|\n",
      "|    Daniel|    3|\n",
      "|    Jeremy|    3|\n",
      "|   Anthony|    2|\n",
      "|   Charles|    2|\n",
      "+----------+-----+\n",
      "only showing top 5 rows\n",
      "\n"
     ]
    }
   ],
   "source": [
    "df3.groupBy('Last Name').count().orderBy(F.col('count').desc()).show(5)\n",
    "df3.groupBy('First Name').count().orderBy(F.col('count').desc()).show(5)"
   ]
  },
  {
   "cell_type": "code",
   "execution_count": 21,
   "id": "0a0c69e9",
   "metadata": {},
   "outputs": [
    {
     "name": "stdout",
     "output_type": "stream",
     "text": [
      "+---------+-----+\n",
      "|Last Name|count|\n",
      "+---------+-----+\n",
      "|   Grimes|    1|\n",
      "|   Porter|    1|\n",
      "| Harrison|    1|\n",
      "|    Scott|    1|\n",
      "|    Jones|    1|\n",
      "+---------+-----+\n",
      "only showing top 5 rows\n",
      "\n",
      "+----------+-----+\n",
      "|First Name|count|\n",
      "+----------+-----+\n",
      "|    Nathan|    1|\n",
      "|   Rebecca|    1|\n",
      "|   Matthew|    1|\n",
      "|    Amanda|    1|\n",
      "|      Gina|    1|\n",
      "+----------+-----+\n",
      "only showing top 5 rows\n",
      "\n"
     ]
    }
   ],
   "source": [
    "\n",
    "df3.groupBy('Last Name').count().orderBy(F.col('count').asc()).show(5)\n",
    "df3.groupBy('First Name').count().orderBy(F.col('count').asc()).show(5)\n"
   ]
  },
  {
   "cell_type": "code",
   "execution_count": 24,
   "id": "30cf3e9d",
   "metadata": {},
   "outputs": [],
   "source": [
    "sc.stop()\n",
    "spark.stop()"
   ]
  },
  {
   "cell_type": "code",
   "execution_count": null,
   "id": "d69fdc86",
   "metadata": {},
   "outputs": [],
   "source": []
  }
 ],
 "metadata": {
  "kernelspec": {
   "display_name": "Python 3 (ipykernel)",
   "language": "python",
   "name": "python3"
  },
  "language_info": {
   "codemirror_mode": {
    "name": "ipython",
    "version": 3
   },
   "file_extension": ".py",
   "mimetype": "text/x-python",
   "name": "python",
   "nbconvert_exporter": "python",
   "pygments_lexer": "ipython3",
   "version": "3.12.9"
  }
 },
 "nbformat": 4,
 "nbformat_minor": 5
}
