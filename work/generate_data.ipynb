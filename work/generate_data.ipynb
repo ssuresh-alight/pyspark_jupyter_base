{
 "cells": [
  {
   "cell_type": "code",
   "execution_count": 49,
   "metadata": {},
   "outputs": [],
   "source": [
    "from faker import Faker\n",
    "from faker.providers import BaseProvider, date_time\n",
    "import os\n",
    "import csv\n"
   ]
  },
  {
   "cell_type": "code",
   "execution_count": 50,
   "metadata": {},
   "outputs": [],
   "source": [
    "fake = Faker()\n",
    "Faker.seed(100)\n",
    "fake.add_provider(BaseProvider)\n",
    "fake.add_provider(date_time)"
   ]
  },
  {
   "cell_type": "code",
   "execution_count": 64,
   "metadata": {},
   "outputs": [],
   "source": [
    "filesize = 100"
   ]
  },
  {
   "cell_type": "code",
   "execution_count": 67,
   "metadata": {},
   "outputs": [],
   "source": [
    "fieldnames=[\n",
    "    'Index','Customer Id','First Name','Last Name','Company','City',\n",
    "    'Country','Phone 1','Phone 2','Email','Subscription Date','Website'\n",
    "]\n",
    "\n",
    "with open(f'data/customers-{filesize}.csv', mode='w', newline='') as csvfile:\n",
    "    spamwriter = csv.DictWriter(csvfile, fieldnames=fieldnames)\n",
    "    for i in range(1, filesize + 1):\n",
    "        rowdata = {\n",
    "            'Index': str(i),\n",
    "            'Customer Id': fake.hexify(\"^^^^^^^^^^^^\", upper=True),\n",
    "            'First Name': fake.first_name(),\n",
    "            'Last Name': fake.last_name(),\n",
    "            'Company': fake.company(),\n",
    "            'City': fake.city(),\n",
    "            'Country': fake.country(),\n",
    "            'Phone 1': fake.phone_number(),\n",
    "            'Phone 2': fake.phone_number(),\n",
    "            'Email': fake.email(),\n",
    "            'Subscription Date': fake.date_between('-10y', end_date='today'),\n",
    "            'Website': fake.url(),\n",
    "        }\n",
    "        spamwriter.writerow(rowdata)"
   ]
  },
  {
   "cell_type": "code",
   "execution_count": null,
   "metadata": {},
   "outputs": [],
   "source": []
  }
 ],
 "metadata": {
  "kernelspec": {
   "display_name": "Python 3",
   "language": "python",
   "name": "python3"
  },
  "language_info": {
   "codemirror_mode": {
    "name": "ipython",
    "version": 3
   },
   "file_extension": ".py",
   "mimetype": "text/x-python",
   "name": "python",
   "nbconvert_exporter": "python",
   "pygments_lexer": "ipython3",
   "version": "3.10.12"
  }
 },
 "nbformat": 4,
 "nbformat_minor": 2
}
