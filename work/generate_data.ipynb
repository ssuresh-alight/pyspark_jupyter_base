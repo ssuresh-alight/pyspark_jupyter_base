{
 "cells": [
  {
   "cell_type": "code",
   "execution_count": 96,
   "metadata": {},
   "outputs": [],
   "source": [
    "from faker import Faker\n",
    "from faker.providers import BaseProvider, date_time\n",
    "import csv\n",
    "import random"
   ]
  },
  {
   "cell_type": "code",
   "execution_count": 97,
   "metadata": {},
   "outputs": [],
   "source": [
    "fake = Faker()\n",
    "Faker.seed(100)\n",
    "fake.add_provider(BaseProvider)\n",
    "fake.add_provider(date_time)"
   ]
  },
  {
   "cell_type": "code",
   "execution_count": 98,
   "metadata": {},
   "outputs": [],
   "source": [
    "filesize = 100"
   ]
  },
  {
   "cell_type": "code",
   "execution_count": 99,
   "metadata": {},
   "outputs": [],
   "source": [
    "fieldnames=[\n",
    "    'Index','Customer Id','First Name','Last Name','Company','City','Country',\n",
    "    'Phone 1','Phone 2','Email','Subscription Date','Birthday','Website'\n",
    "]\n",
    "\n",
    "customerids = []\n",
    "with open(f'data/customers-{filesize}.csv', mode='w', newline='') as csvfile:\n",
    "    dictwriter = csv.DictWriter(csvfile, fieldnames=fieldnames)\n",
    "    dictwriter.writeheader()\n",
    "    for i in range(1, filesize + 1):\n",
    "        rowdata = {\n",
    "            'Index': str(i),\n",
    "            'Customer Id': fake.hexify(\"^^^^^^^^^^^^\", upper=True),\n",
    "            'First Name': fake.first_name(),\n",
    "            'Last Name': fake.last_name(),\n",
    "            'Company': fake.company(),\n",
    "            'City': fake.city(),\n",
    "            'Country': fake.country(),\n",
    "            'Phone 1': fake.phone_number(),\n",
    "            'Phone 2': fake.phone_number(),\n",
    "            'Email': fake.email(),\n",
    "            'Subscription Date': fake.date_between('-10y', end_date='today'),\n",
    "            'Birthday': fake.date_between('-60y', '-20y'),\n",
    "            'Website': fake.url(),\n",
    "        }\n",
    "        customerids.append(rowdata['Customer Id'])\n",
    "        dictwriter.writerow(rowdata)"
   ]
  },
  {
   "cell_type": "code",
   "execution_count": 100,
   "metadata": {},
   "outputs": [],
   "source": [
    "random.shuffle(customerids)\n",
    "repeating_customers = customerids[:int(len(customerids) / 2)]\n",
    "customerids.extend(customerid for customerid in repeating_customers for _ in range(random.randint(0, 20)))\n",
    "random.shuffle(customerids)"
   ]
  },
  {
   "cell_type": "code",
   "execution_count": 101,
   "metadata": {},
   "outputs": [],
   "source": [
    "def get_fake_money(min = 10, max=100):\n",
    "    amt = str(fake.random_int(min=min*100, max=max*100))\n",
    "    amt = amt[:-2] + '.' + amt[-2:]\n",
    "    return amt\n"
   ]
  },
  {
   "cell_type": "code",
   "execution_count": 105,
   "metadata": {},
   "outputs": [],
   "source": [
    "fieldnames = [\n",
    "    'Index', 'Order Id', 'Customer Id', 'Amount', 'Purchase Date'\n",
    "]\n",
    "with open(f'data/orders-from-customers-{filesize}.csv', mode='w', newline='') as csvfile:\n",
    "    dictwriter = csv.DictWriter(csvfile, fieldnames=fieldnames)\n",
    "    dictwriter.writeheader()\n",
    "    for i in range(0, len(customerids)):\n",
    "        rowdata = {\n",
    "            'Index': str(i),\n",
    "            'Order Id': fake.hexify(\"^^^^^^^^^^^^\", upper=True),\n",
    "            'Customer Id': customerids[i],\n",
    "            'Amount': get_fake_money(),\n",
    "            'Purchase Date': fake.date_between('-2y', end_date='today'),\n",
    "        }\n",
    "        dictwriter.writerow(rowdata)"
   ]
  },
  {
   "cell_type": "code",
   "execution_count": null,
   "metadata": {},
   "outputs": [],
   "source": []
  },
  {
   "cell_type": "code",
   "execution_count": null,
   "metadata": {},
   "outputs": [],
   "source": []
  },
  {
   "cell_type": "code",
   "execution_count": null,
   "metadata": {},
   "outputs": [],
   "source": []
  },
  {
   "cell_type": "code",
   "execution_count": null,
   "metadata": {},
   "outputs": [],
   "source": []
  },
  {
   "cell_type": "code",
   "execution_count": null,
   "metadata": {},
   "outputs": [],
   "source": []
  }
 ],
 "metadata": {
  "kernelspec": {
   "display_name": "Python 3",
   "language": "python",
   "name": "python3"
  },
  "language_info": {
   "codemirror_mode": {
    "name": "ipython",
    "version": 3
   },
   "file_extension": ".py",
   "mimetype": "text/x-python",
   "name": "python",
   "nbconvert_exporter": "python",
   "pygments_lexer": "ipython3",
   "version": "3.10.12"
  }
 },
 "nbformat": 4,
 "nbformat_minor": 2
}
