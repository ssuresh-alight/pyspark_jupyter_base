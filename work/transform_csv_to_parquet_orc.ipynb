{
 "cells": [
  {
   "cell_type": "code",
   "execution_count": 1,
   "metadata": {},
   "outputs": [],
   "source": [
    "from pyspark.sql import SparkSession\n",
    "import pyspark.sql.functions as F\n",
    "import os\n",
    "from tqdm.notebook import tqdm"
   ]
  },
  {
   "cell_type": "code",
   "execution_count": 2,
   "metadata": {},
   "outputs": [
    {
     "data": {
      "text/html": [
       "<style>\n",
       ".cell-output-ipywidget-background {\n",
       "    background-color: transparent !important;\n",
       "}\n",
       ":root {\n",
       "    --jp-widgets-color: var(--vscode-editor-foreground);\n",
       "    --jp-widgets-font-size: var(--vscode-editor-font-size);\n",
       "}  \n",
       "</style>\n"
      ],
      "text/plain": [
       "<IPython.core.display.HTML object>"
      ]
     },
     "metadata": {},
     "output_type": "display_data"
    }
   ],
   "source": [
    "%%html\n",
    "<style>\n",
    ".cell-output-ipywidget-background {\n",
    "    background-color: transparent !important;\n",
    "}\n",
    ":root {\n",
    "    --jp-widgets-color: var(--vscode-editor-foreground);\n",
    "    --jp-widgets-font-size: var(--vscode-editor-font-size);\n",
    "}  \n",
    "</style>"
   ]
  },
  {
   "cell_type": "code",
   "execution_count": 3,
   "metadata": {},
   "outputs": [],
   "source": [
    "spark = (\n",
    "    SparkSession.builder\n",
    "        .appName(\"TestTransformFile\")\n",
    "        .config(\"spark.sql.shuffle.partitions\", \"4\")\n",
    "        .getOrCreate()\n",
    "    )"
   ]
  },
  {
   "cell_type": "code",
   "execution_count": 4,
   "metadata": {},
   "outputs": [],
   "source": [
    "def convert_csv_to_other_format(csv_file_name, output=True, format=\"parquet\"):\n",
    "    with tqdm(total=3) as pbar:\n",
    "        csv_path = f\"./work/data/{csv_file_name}\"\n",
    "        other_file_name = f\"{csv_file_name.split('.')[0]}.{format}\"\n",
    "        other_path = f\"./work/data/{other_file_name}\"\n",
    "        pbar.update()\n",
    "        \n",
    "        if output:\n",
    "            print(\n",
    "                csv_file_name,\n",
    "                round(os.path.getsize(csv_path) / 1024 /1024, 2),\n",
    "                \"MB\"\n",
    "            )\n",
    "        \n",
    "        data_csv = spark.read.csv(csv_path, header=True, inferSchema=True)\n",
    "        pbar.update()\n",
    "        data_csv.write.format(format).save(other_path, mode='overwrite')\n",
    "        pbar.update()\n",
    "        \n",
    "        if output:\n",
    "            print(\n",
    "                other_file_name,\n",
    "                round(\n",
    "                    sum(\n",
    "                        os.path.getsize(f\"{other_path}/{f}\") \n",
    "                        for f in os.listdir(f\"{other_path}\")\n",
    "                        if os.path.isfile(f\"{other_path}/{f}\")\n",
    "                    ) / 1024 / 1024,\n",
    "                    2\n",
    "                ),\n",
    "                \"MB\"\n",
    "            )"
   ]
  },
  {
   "cell_type": "code",
   "execution_count": 5,
   "metadata": {},
   "outputs": [
    {
     "data": {
      "application/vnd.jupyter.widget-view+json": {
       "model_id": "cd9a6061662f40f58e6a9dccce04eefc",
       "version_major": 2,
       "version_minor": 0
      },
      "text/plain": [
       "  0%|          | 0/3 [00:00<?, ?it/s]"
      ]
     },
     "metadata": {},
     "output_type": "display_data"
    },
    {
     "name": "stdout",
     "output_type": "stream",
     "text": [
      "customers-100000.csv 17.17 MB\n",
      "customers-100000.parquet 9.29 MB\n"
     ]
    }
   ],
   "source": [
    "convert_csv_to_other_format(\"customers-100000.csv\", output=True, format=\"parquet\")"
   ]
  },
  {
   "cell_type": "code",
   "execution_count": 6,
   "metadata": {},
   "outputs": [
    {
     "data": {
      "application/vnd.jupyter.widget-view+json": {
       "model_id": "e0c859c28ad94ec6838f2faad09eae4a",
       "version_major": 2,
       "version_minor": 0
      },
      "text/plain": [
       "  0%|          | 0/3 [00:00<?, ?it/s]"
      ]
     },
     "metadata": {},
     "output_type": "display_data"
    },
    {
     "name": "stdout",
     "output_type": "stream",
     "text": [
      "orders-from-customers-100000.csv 29.23 MB\n",
      "orders-from-customers-100000.parquet 17.14 MB\n"
     ]
    }
   ],
   "source": [
    "convert_csv_to_other_format(\"orders-from-customers-100000.csv\", output=True, format=\"parquet\")"
   ]
  },
  {
   "cell_type": "code",
   "execution_count": 7,
   "metadata": {},
   "outputs": [
    {
     "data": {
      "application/vnd.jupyter.widget-view+json": {
       "model_id": "db3f45d2e7f7414c937a0d160b3ddaa5",
       "version_major": 2,
       "version_minor": 0
      },
      "text/plain": [
       "  0%|          | 0/3 [00:00<?, ?it/s]"
      ]
     },
     "metadata": {},
     "output_type": "display_data"
    },
    {
     "name": "stdout",
     "output_type": "stream",
     "text": [
      "customers-100000.csv 17.17 MB\n"
     ]
    },
    {
     "name": "stdout",
     "output_type": "stream",
     "text": [
      "customers-100000.orc 5.23 MB\n"
     ]
    }
   ],
   "source": [
    "convert_csv_to_other_format(\"customers-100000.csv\", output=True, format=\"orc\")"
   ]
  },
  {
   "cell_type": "code",
   "execution_count": 8,
   "metadata": {},
   "outputs": [
    {
     "data": {
      "application/vnd.jupyter.widget-view+json": {
       "model_id": "f78c3ab6af8d450e86117a8f839e9513",
       "version_major": 2,
       "version_minor": 0
      },
      "text/plain": [
       "  0%|          | 0/3 [00:00<?, ?it/s]"
      ]
     },
     "metadata": {},
     "output_type": "display_data"
    },
    {
     "name": "stdout",
     "output_type": "stream",
     "text": [
      "orders-from-customers-100000.csv 29.23 MB\n",
      "orders-from-customers-100000.orc 10.25 MB\n"
     ]
    }
   ],
   "source": [
    "convert_csv_to_other_format(\"orders-from-customers-100000.csv\", output=True, format=\"orc\")"
   ]
  },
  {
   "cell_type": "code",
   "execution_count": null,
   "metadata": {},
   "outputs": [],
   "source": []
  }
 ],
 "metadata": {
  "kernelspec": {
   "display_name": "Python 3 (ipykernel)",
   "language": "python",
   "name": "python3"
  },
  "language_info": {
   "codemirror_mode": {
    "name": "ipython",
    "version": 3
   },
   "file_extension": ".py",
   "mimetype": "text/x-python",
   "name": "python",
   "nbconvert_exporter": "python",
   "pygments_lexer": "ipython3",
   "version": "3.12.9"
  }
 },
 "nbformat": 4,
 "nbformat_minor": 2
}
