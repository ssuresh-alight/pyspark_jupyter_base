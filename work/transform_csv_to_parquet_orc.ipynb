{
 "cells": [
  {
   "cell_type": "code",
   "execution_count": 1,
   "metadata": {},
   "outputs": [],
   "source": [
    "from pyspark.sql import SparkSession\n",
    "import pyspark.sql.functions as F\n",
    "import os\n",
    "from tqdm.notebook import tqdm"
   ]
  },
  {
   "cell_type": "code",
   "execution_count": null,
   "metadata": {},
   "outputs": [
    {
     "data": {
      "text/html": [
       "<style>\n",
       ".cell-output-ipywidget-background {\n",
       "    background-color: transparent !important;\n",
       "}\n",
       ":root {\n",
       "    --jp-widgets-color: var(--vscode-editor-foreground);\n",
       "    --jp-widgets-font-size: var(--vscode-editor-font-size);\n",
       "}  \n",
       "</style>\n"
      ],
      "text/plain": [
       "<IPython.core.display.HTML object>"
      ]
     },
     "metadata": {},
     "output_type": "display_data"
    }
   ],
   "source": [
    "%%html\n",
    "<style>\n",
    ".cell-output-ipywidget-background {\n",
    "    background-color: transparent !important;\n",
    "}\n",
    ":root {\n",
    "    --jp-widgets-color: var(--vscode-editor-foreground);\n",
    "    --jp-widgets-font-size: var(--vscode-editor-font-size);\n",
    "}  \n",
    "</style>"
   ]
  },
  {
   "cell_type": "code",
   "execution_count": 3,
   "metadata": {},
   "outputs": [],
   "source": [
    "spark = (\n",
    "    SparkSession.builder\n",
    "        .appName(\"TestTransformFile\")\n",
    "        .config(\"spark.sql.shuffle.partitions\", \"4\")\n",
    "        .getOrCreate()\n",
    "    )"
   ]
  },
  {
   "cell_type": "code",
   "execution_count": 15,
   "metadata": {},
   "outputs": [
    {
     "name": "stdout",
     "output_type": "stream",
     "text": [
      "0\n",
      "3\n"
     ]
    }
   ],
   "source": [
    "# test enums in python\n",
    "\n",
    "from enum import Enum\n",
    "\n",
    "# compression options enum:\n",
    "class CompressionOptions(Enum):\n",
    "    ZLIB = \"zlib\"\n",
    "    GZIP = \"gzip\"\n",
    "    NONE = None\n",
    "\n",
    "test_val_1 = CompressionOptions.NONE\n",
    "test_val_2 = CompressionOptions.ZLIB\n",
    "\n",
    "if (CompressionOptions.NONE == test_val_1):\n",
    "    print(\"0\") # prints\n",
    "if (CompressionOptions.ZLIB == test_val_1):\n",
    "    print(\"1\")\n",
    "if (CompressionOptions.NONE == test_val_2):\n",
    "    print(\"2\")\n",
    "if (CompressionOptions.ZLIB == test_val_2):\n",
    "    print(\"3\") # prints"
   ]
  },
  {
   "cell_type": "code",
   "execution_count": 16,
   "metadata": {},
   "outputs": [],
   "source": [
    "def convert_csv_to_other_format(csv_file_name, output=True, format=\"parquet\", compression=CompressionOptions.ZLIB):\n",
    "    with tqdm(total=3) as pbar:\n",
    "        csv_path = f\"./work/data/{csv_file_name}\"\n",
    "        other_file_name = f\"{csv_file_name.split('.')[0]}.{format}\"\n",
    "        other_path = f\"./work/data/{other_file_name}\"\n",
    "        pbar.update()\n",
    "        \n",
    "        if output:\n",
    "            print(\n",
    "                csv_file_name,\n",
    "                round(os.path.getsize(csv_path) / 1024 /1024, 2),\n",
    "                \"MB\"\n",
    "            )\n",
    "        \n",
    "        data_csv = spark.read.csv(csv_path, header=True, inferSchema=True)\n",
    "        pbar.update()\n",
    "        write_builder = data_csv.write.format(format)\n",
    "        if compression != CompressionOptions.NONE:\n",
    "            write_builder.option(\"compression\", compression.value)\n",
    "        write_builder.save(other_path, mode='overwrite')\n",
    "        pbar.update()\n",
    "        \n",
    "        if output:\n",
    "            print(\n",
    "                other_file_name,\n",
    "                round(\n",
    "                    sum(\n",
    "                        os.path.getsize(f\"{other_path}/{f}\") \n",
    "                        for f in os.listdir(f\"{other_path}\")\n",
    "                        if os.path.isfile(f\"{other_path}/{f}\")\n",
    "                    ) / 1024 / 1024,\n",
    "                    2\n",
    "                ),\n",
    "                \"MB\"\n",
    "            )"
   ]
  },
  {
   "cell_type": "markdown",
   "metadata": {},
   "source": [
    "Parquet format\n",
    "\n",
    "doesn't support zlib compression"
   ]
  },
  {
   "cell_type": "code",
   "execution_count": 22,
   "metadata": {},
   "outputs": [
    {
     "data": {
      "application/vnd.jupyter.widget-view+json": {
       "model_id": "c350a2d337c94a209a49ff8d175df114",
       "version_major": 2,
       "version_minor": 0
      },
      "text/plain": [
       "  0%|          | 0/3 [00:00<?, ?it/s]"
      ]
     },
     "metadata": {},
     "output_type": "display_data"
    },
    {
     "name": "stdout",
     "output_type": "stream",
     "text": [
      "customers-100000.csv 17.17 MB\n",
      "customers-100000.parquet 6.0 MB\n"
     ]
    }
   ],
   "source": [
    "convert_csv_to_other_format(\"customers-100000.csv\", output=True, format=\"parquet\", compression=CompressionOptions.GZIP)"
   ]
  },
  {
   "cell_type": "code",
   "execution_count": 23,
   "metadata": {},
   "outputs": [
    {
     "data": {
      "application/vnd.jupyter.widget-view+json": {
       "model_id": "b0a6ded2221145aeb43394f0abf823fa",
       "version_major": 2,
       "version_minor": 0
      },
      "text/plain": [
       "  0%|          | 0/3 [00:00<?, ?it/s]"
      ]
     },
     "metadata": {},
     "output_type": "display_data"
    },
    {
     "name": "stdout",
     "output_type": "stream",
     "text": [
      "customers-100000.csv 17.17 MB\n",
      "customers-100000.parquet 9.29 MB\n"
     ]
    }
   ],
   "source": [
    "convert_csv_to_other_format(\"customers-100000.csv\", output=True, format=\"parquet\", compression=CompressionOptions.NONE)"
   ]
  },
  {
   "cell_type": "code",
   "execution_count": 24,
   "metadata": {},
   "outputs": [
    {
     "data": {
      "application/vnd.jupyter.widget-view+json": {
       "model_id": "5e2cb116753c4cc39506c77010dbc73d",
       "version_major": 2,
       "version_minor": 0
      },
      "text/plain": [
       "  0%|          | 0/3 [00:00<?, ?it/s]"
      ]
     },
     "metadata": {},
     "output_type": "display_data"
    },
    {
     "name": "stdout",
     "output_type": "stream",
     "text": [
      "orders-from-customers-100000.csv 29.23 MB\n",
      "orders-from-customers-100000.parquet 10.99 MB\n"
     ]
    }
   ],
   "source": [
    "convert_csv_to_other_format(\"orders-from-customers-100000.csv\", output=True, format=\"parquet\", compression=CompressionOptions.GZIP)"
   ]
  },
  {
   "cell_type": "code",
   "execution_count": 25,
   "metadata": {},
   "outputs": [
    {
     "data": {
      "application/vnd.jupyter.widget-view+json": {
       "model_id": "ecf28dc476074c98bdfd55082d6cad6d",
       "version_major": 2,
       "version_minor": 0
      },
      "text/plain": [
       "  0%|          | 0/3 [00:00<?, ?it/s]"
      ]
     },
     "metadata": {},
     "output_type": "display_data"
    },
    {
     "name": "stdout",
     "output_type": "stream",
     "text": [
      "orders-from-customers-100000.csv 29.23 MB\n",
      "orders-from-customers-100000.parquet 17.14 MB\n"
     ]
    }
   ],
   "source": [
    "convert_csv_to_other_format(\"orders-from-customers-100000.csv\", output=True, format=\"parquet\", compression=CompressionOptions.NONE)"
   ]
  },
  {
   "cell_type": "markdown",
   "metadata": {},
   "source": [
    "ORC format\n",
    "\n",
    "doesn't support Gzip compression"
   ]
  },
  {
   "cell_type": "code",
   "execution_count": 26,
   "metadata": {},
   "outputs": [
    {
     "data": {
      "application/vnd.jupyter.widget-view+json": {
       "model_id": "14677224b326428d81dc678bb77d5c54",
       "version_major": 2,
       "version_minor": 0
      },
      "text/plain": [
       "  0%|          | 0/3 [00:00<?, ?it/s]"
      ]
     },
     "metadata": {},
     "output_type": "display_data"
    },
    {
     "name": "stdout",
     "output_type": "stream",
     "text": [
      "customers-100000.csv 17.17 MB\n",
      "customers-100000.orc 5.52 MB\n"
     ]
    }
   ],
   "source": [
    "convert_csv_to_other_format(\"customers-100000.csv\", output=True, format=\"orc\", compression=CompressionOptions.ZLIB)"
   ]
  },
  {
   "cell_type": "code",
   "execution_count": 27,
   "metadata": {},
   "outputs": [
    {
     "data": {
      "application/vnd.jupyter.widget-view+json": {
       "model_id": "563c8733ddfe4f23af12e92718f45fe0",
       "version_major": 2,
       "version_minor": 0
      },
      "text/plain": [
       "  0%|          | 0/3 [00:00<?, ?it/s]"
      ]
     },
     "metadata": {},
     "output_type": "display_data"
    },
    {
     "name": "stdout",
     "output_type": "stream",
     "text": [
      "customers-100000.csv 17.17 MB\n",
      "customers-100000.orc 5.23 MB\n"
     ]
    }
   ],
   "source": [
    "convert_csv_to_other_format(\"customers-100000.csv\", output=True, format=\"orc\", compression=CompressionOptions.NONE)"
   ]
  },
  {
   "cell_type": "code",
   "execution_count": 28,
   "metadata": {},
   "outputs": [
    {
     "data": {
      "application/vnd.jupyter.widget-view+json": {
       "model_id": "927aa76c23274a8ab3059f5daefb0f25",
       "version_major": 2,
       "version_minor": 0
      },
      "text/plain": [
       "  0%|          | 0/3 [00:00<?, ?it/s]"
      ]
     },
     "metadata": {},
     "output_type": "display_data"
    },
    {
     "name": "stdout",
     "output_type": "stream",
     "text": [
      "orders-from-customers-100000.csv 29.23 MB\n",
      "orders-from-customers-100000.orc 10.78 MB\n"
     ]
    }
   ],
   "source": [
    "convert_csv_to_other_format(\"orders-from-customers-100000.csv\", output=True, format=\"orc\", compression=CompressionOptions.ZLIB)"
   ]
  },
  {
   "cell_type": "code",
   "execution_count": 29,
   "metadata": {},
   "outputs": [
    {
     "data": {
      "application/vnd.jupyter.widget-view+json": {
       "model_id": "2775313e395b42a7951a0a373b803039",
       "version_major": 2,
       "version_minor": 0
      },
      "text/plain": [
       "  0%|          | 0/3 [00:00<?, ?it/s]"
      ]
     },
     "metadata": {},
     "output_type": "display_data"
    },
    {
     "name": "stdout",
     "output_type": "stream",
     "text": [
      "orders-from-customers-100000.csv 29.23 MB\n",
      "orders-from-customers-100000.orc 10.25 MB\n"
     ]
    }
   ],
   "source": [
    "convert_csv_to_other_format(\"orders-from-customers-100000.csv\", output=True, format=\"orc\", compression=CompressionOptions.NONE)"
   ]
  },
  {
   "cell_type": "code",
   "execution_count": null,
   "metadata": {},
   "outputs": [],
   "source": []
  }
 ],
 "metadata": {
  "kernelspec": {
   "display_name": "Python 3 (ipykernel)",
   "language": "python",
   "name": "python3"
  }
 },
 "nbformat": 4,
 "nbformat_minor": 2
}
