{
 "cells": [
  {
   "cell_type": "code",
   "execution_count": null,
   "metadata": {},
   "outputs": [],
   "source": [
    "from datetime import datetime, date\n",
    "from pyspark.sql import SparkSession, Row, functions as F\n",
    "from pyspark.sql.window import Window\n",
    "\n",
    "from typing import Iterator"
   ]
  },
  {
   "cell_type": "code",
   "execution_count": 3,
   "metadata": {},
   "outputs": [],
   "source": [
    "# Spark session & context\n",
    "\n",
    "# create it in local mode\n",
    "spark = SparkSession.builder.master(\"local\").getOrCreate()\n",
    "sc = spark.sparkContext\n",
    "spark.conf.set('spark.sql.repl.eagerEval.enabled', False)"
   ]
  },
  {
   "cell_type": "code",
   "execution_count": 22,
   "metadata": {},
   "outputs": [],
   "source": [
    "size = 100\n",
    "customer_df = spark.read.csv(f\"./work/data/customers-{size}.csv\", header=True, inferSchema=True)\n",
    "order_df = spark.read.csv(f\"./work/data/orders-from-customers-{size}.csv\", header=True, inferSchema=True)"
   ]
  },
  {
   "cell_type": "code",
   "execution_count": 37,
   "metadata": {},
   "outputs": [
    {
     "name": "stdout",
     "output_type": "stream",
     "text": [
      "+----+-----+-----+\n",
      "|year|month|count|\n",
      "+----+-----+-----+\n",
      "|2023|    4|   36|\n",
      "|2024|   11|   29|\n",
      "|2025|    2|   25|\n",
      "+----+-----+-----+\n",
      "\n"
     ]
    }
   ],
   "source": [
    "# find most popular month during each year for purchases\n",
    "(\n",
    "    order_df\n",
    "        .withColumn(\"date\", F.to_date(\"Purchase Date\"))\n",
    "        .withColumn(\"month\", F.month(\"date\"))\n",
    "        .withColumn(\"year\", F.year(\"date\"))\n",
    "        .drop(\"date\")\n",
    "        .groupBy(\"year\", \"month\")\n",
    "        .count()\n",
    "        # Partition by year and order by count within partition\n",
    "        .withColumn(\n",
    "            \"rank\",\n",
    "            F.rank().over(Window.partitionBy(\"year\").orderBy(F.desc(\"count\")))\n",
    "        )\n",
    "        # Only show rank 1 from each partition\n",
    "        .filter(F.col(\"rank\") == 1)\n",
    "        .orderBy(\"year\")\n",
    "        .drop(\"rank\")\n",
    "        .show()\n",
    ")"
   ]
  },
  {
   "cell_type": "code",
   "execution_count": 42,
   "metadata": {},
   "outputs": [
    {
     "name": "stdout",
     "output_type": "stream",
     "text": [
      "+-------+-----+\n",
      "|  month|count|\n",
      "+-------+-----+\n",
      "|04-2023|   36|\n",
      "|07-2023|   29|\n",
      "|11-2024|   29|\n",
      "+-------+-----+\n",
      "only showing top 3 rows\n",
      "\n"
     ]
    }
   ],
   "source": [
    "# find most popular month across entire data\n",
    "(\n",
    "    order_df\n",
    "        .withColumn(\"date\", F.to_date(\"Purchase Date\"))\n",
    "        .withColumn(\n",
    "            \"month\",\n",
    "            F.concat_ws(\"-\", F.lpad(F.month(\"date\"), 2, '0'), F.year(\"date\"))\n",
    "        )\n",
    "        .drop(\"date\")\n",
    "        .groupBy(\"month\")\n",
    "        .count()\n",
    "        .orderBy(\"count\", ascending=False)\n",
    "        .show(3)\n",
    ")"
   ]
  },
  {
   "cell_type": "code",
   "execution_count": 56,
   "metadata": {},
   "outputs": [
    {
     "name": "stdout",
     "output_type": "stream",
     "text": [
      "+-------------+------------+--------------+\n",
      "|         Name| Customer Id|Purchase Count|\n",
      "+-------------+------------+--------------+\n",
      "|Jose Stephens|09238C7A079D|            21|\n",
      "| Leslie Jones|DCC426900E4B|            21|\n",
      "|  Trevor Kent|4BF474004F29|            20|\n",
      "|Michael Ewing|B1773C62C2B1|            19|\n",
      "|  John Fisher|F6AED63445DD|            19|\n",
      "+-------------+------------+--------------+\n",
      "only showing top 5 rows\n",
      "\n"
     ]
    }
   ],
   "source": [
    "# find the top 5 customers (name, id, number of purchases)\n",
    "(\n",
    "    order_df\n",
    "        .join(customer_df, on='Customer Id')\n",
    "        .withColumn(\n",
    "            'Name',\n",
    "            F.concat_ws(' ', F.col('First Name'), F.col('Last Name'))\n",
    "        )\n",
    "        .groupBy('Customer Id', 'Name')\n",
    "        .count()\n",
    "        .withColumnRenamed('count','Purchase Count')\n",
    "        .select('Name', 'Customer Id', 'Purchase Count')\n",
    "        .orderBy(F.desc('Purchase Count'))\n",
    "        .show(5)\n",
    ")"
   ]
  },
  {
   "cell_type": "code",
   "execution_count": null,
   "metadata": {},
   "outputs": [
    {
     "name": "stdout",
     "output_type": "stream",
     "text": [
      "+----------------+------------+--------------+------------+\n",
      "|            Name| Customer Id|Purchase Count|Total Amount|\n",
      "+----------------+------------+--------------+------------+\n",
      "|   Jose Stephens|09238C7A079D|            21|     1296.31|\n",
      "|    Leslie Jones|DCC426900E4B|            21|     1043.66|\n",
      "|     Trevor Kent|4BF474004F29|            20|     1013.57|\n",
      "|     John Fisher|F6AED63445DD|            19|     1072.17|\n",
      "|   Michael Ewing|B1773C62C2B1|            19|     1254.72|\n",
      "|    Diane Vaughn|EB9C157925CA|            18|      987.19|\n",
      "|      Diane Cole|6A2F4D7F36E5|            18|     1014.62|\n",
      "|    Anita Guzman|7445FA4A5CC8|            18|     1057.67|\n",
      "|   Johnny Potter|1B22A473C51A|            18|     1023.41|\n",
      "|Kimberly Johnson|0C80E95EE32B|            17|      894.13|\n",
      "+----------------+------------+--------------+------------+\n",
      "only showing top 10 rows\n",
      "\n"
     ]
    }
   ],
   "source": [
    "# find the top 10 customers (name, id, total amount spent, and number of purchases)\n",
    "(\n",
    "    order_df\n",
    "        .join(customer_df, on='Customer Id')\n",
    "        .withColumn(\n",
    "            'Name',\n",
    "            F.concat_ws(' ', F.col('First Name'), F.col('Last Name'))\n",
    "        )\n",
    "        .groupBy('Customer Id', 'Name')\n",
    "        .agg(\n",
    "            F.count('Order Id').alias('Purchase Count'),\n",
    "            F.round(F.sum('Amount'), 2).alias('Total Amount'),\n",
    "        )\n",
    "        .select('Name', 'Customer Id', 'Purchase Count', 'Total Amount')\n",
    "        .orderBy(F.desc('Purchase Count'))\n",
    "        .show(10)\n",
    ")"
   ]
  },
  {
   "cell_type": "code",
   "execution_count": null,
   "metadata": {},
   "outputs": [
    {
     "name": "stdout",
     "output_type": "stream",
     "text": [
      "+------------+-------------------+--------------+\n",
      "| Customer Id|               Name|Average Amount|\n",
      "+------------+-------------------+--------------+\n",
      "|0C80E95EE32B|   Kimberly Johnson|          52.6|\n",
      "|F6F2E7F309F0|          Anne Lane|         61.34|\n",
      "|F49EEA01BB9B|  Courtney Williams|         92.04|\n",
      "|4EE5CBD332E8|Brandon Fitzpatrick|         60.49|\n",
      "|5E36498E2C86|     Mariah Woodard|         31.82|\n",
      "+------------+-------------------+--------------+\n",
      "only showing top 5 rows\n",
      "\n"
     ]
    }
   ],
   "source": [
    "# find average purchases per month for customer\n",
    "(\n",
    "    customer_df\n",
    "        .join(order_df, \"Customer Id\")\n",
    "        .withColumn(\n",
    "            'Name',\n",
    "            F.concat_ws(\" \", \"First Name\", \"Last Name\")\n",
    "        )\n",
    "        .groupBy(\"Customer Id\", \"Name\")\n",
    "        .agg(\n",
    "            # TODO: Make this average per month:\n",
    "            F.round(F.avg(\"Amount\"), 2).alias(\"Average Amount\")\n",
    "        )\n",
    "        .select(\"Customer Id\", \"Name\", \"Average Amount\")\n",
    "        .show(5)\n",
    ")"
   ]
  },
  {
   "cell_type": "code",
   "execution_count": null,
   "metadata": {},
   "outputs": [],
   "source": [
    "# find age range of customers"
   ]
  },
  {
   "cell_type": "code",
   "execution_count": null,
   "metadata": {},
   "outputs": [],
   "source": [
    "# do same queries with SQL syntax"
   ]
  }
 ],
 "metadata": {
  "kernelspec": {
   "display_name": "Python 3 (ipykernel)",
   "language": "python",
   "name": "python3"
  },
  "language_info": {
   "codemirror_mode": {
    "name": "ipython",
    "version": 3
   },
   "file_extension": ".py",
   "mimetype": "text/x-python",
   "name": "python",
   "nbconvert_exporter": "python",
   "pygments_lexer": "ipython3",
   "version": "3.12.9"
  }
 },
 "nbformat": 4,
 "nbformat_minor": 2
}
